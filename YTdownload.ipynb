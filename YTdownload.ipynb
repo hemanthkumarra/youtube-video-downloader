{
 "cells": [
  {
   "cell_type": "code",
   "execution_count": null,
   "id": "04b1b217-1b80-4da5-af7c-bac377f9b04f",
   "metadata": {},
   "outputs": [],
   "source": [
    "!pip install yt-dlp ffmpeg-python\n",
    "!sudo apt install -y ffmpeg"
   ]
  },
  {
   "cell_type": "code",
   "execution_count": 4,
   "id": "8de25767-2da9-4c54-b521-4b465b35f906",
   "metadata": {},
   "outputs": [],
   "source": [
    "import os\n",
    "import yt_dlp\n"
   ]
  },
  {
   "cell_type": "code",
   "execution_count": 20,
   "id": "4e505731-3502-4d91-a55b-5c57d684d68b",
   "metadata": {},
   "outputs": [],
   "source": [
    "def download_video(url):\n",
    "    file_name=input(\"enter file name to save\")\n",
    "    ydl_opts = {\n",
    "        'format': 'mp4',\n",
    "        'outtmpl': f'input_video/{file_name}.mp4',\n",
    "        'cookies':'cookies.txt'\n",
    "    }\n",
    "    with yt_dlp.YoutubeDL(ydl_opts) as ydl:\n",
    "        ydl.download([url])\n",
    "    return f'input_video/{file_name}.mp4'"
   ]
  },
  {
   "cell_type": "code",
   "execution_count": null,
   "id": "e3765983-05eb-4521-9bb6-b9f56bfa1f6d",
   "metadata": {},
   "outputs": [],
   "source": [
    "youtubeURL = input(\"Paste enter YouTube video URL: \")\n",
    "try:\n",
    "    video_path = download_video(youtubeURL)\n",
    "    print(\"YouTube video downloaded:\", video_path)\n",
    "except Exception as e:\n",
    "    print(\"Failed to download from YouTube. Try option 3 using y2mate.\")\n",
    "    raise e    "
   ]
  },
  {
   "cell_type": "code",
   "execution_count": null,
   "id": "0cf81567-eba9-49fc-8350-b79542bf3632",
   "metadata": {},
   "outputs": [],
   "source": [
    "print(\"Video downloaded to:\",os.getcwd(),\"->\", video_path)\n"
   ]
  },
  {
   "cell_type": "code",
   "execution_count": null,
   "id": "1c217a27-4cad-4900-9d71-20547d8ee340",
   "metadata": {},
   "outputs": [],
   "source": [
    "from IPython.display import Video\n",
    "Video(video_path, embed=True)"
   ]
  },
  {
   "cell_type": "code",
   "execution_count": null,
   "id": "06212aab-8885-4948-8b6b-c18275fbe696",
   "metadata": {},
   "outputs": [],
   "source": []
  }
 ],
 "metadata": {
  "kernelspec": {
   "display_name": "Python 3 (ipykernel)",
   "language": "python",
   "name": "python3"
  },
  "language_info": {
   "codemirror_mode": {
    "name": "ipython",
    "version": 3
   },
   "file_extension": ".py",
   "mimetype": "text/x-python",
   "name": "python",
   "nbconvert_exporter": "python",
   "pygments_lexer": "ipython3",
   "version": "3.12.7"
  }
 },
 "nbformat": 4,
 "nbformat_minor": 5
}
